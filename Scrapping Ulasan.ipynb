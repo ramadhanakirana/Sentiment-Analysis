{
 "cells": [
  {
   "cell_type": "code",
   "execution_count": 1,
   "id": "e0aa9f3b",
   "metadata": {},
   "outputs": [
    {
     "name": "stderr",
     "output_type": "stream",
     "text": [
      "WARNING: pip is being invoked by an old script wrapper. This will fail in a future version of pip.\n",
      "Please see https://github.com/pypa/pip/issues/5599 for advice on fixing the underlying issue.\n",
      "To avoid this problem you can invoke Python with '-m pip' instead of running pip directly.\n"
     ]
    },
    {
     "name": "stdout",
     "output_type": "stream",
     "text": [
      "Requirement already satisfied: google-play-scraper in c:\\users\\asus vivobook\\anaconda3\\lib\\site-packages (1.2.2)\n"
     ]
    },
    {
     "data": {
      "text/plain": [
       "0"
      ]
     },
     "execution_count": 1,
     "metadata": {},
     "output_type": "execute_result"
    }
   ],
   "source": [
    "#install google-play-scrapper\n",
    "import pip\n",
    "pip.main(['install','google-play-scraper']) "
   ]
  },
  {
   "cell_type": "code",
   "execution_count": 2,
   "id": "f9b32bf5",
   "metadata": {},
   "outputs": [],
   "source": [
    "#import library\n",
    "from google_play_scraper import app, Sort, reviews\n",
    "import pandas as pd\n",
    "import numpy as np"
   ]
  },
  {
   "cell_type": "code",
   "execution_count": 3,
   "id": "e384b01a",
   "metadata": {},
   "outputs": [],
   "source": [
    "#ambil ulasan (contoh merupakan ulasan dari aplikasi threads)\n",
    "result, continuation_token = reviews(\n",
    "    'com.instagram.barcelona',\n",
    "    lang = 'id', #bahasa\n",
    "    country = 'id', #negara\n",
    "    sort = Sort.NEWEST, #sort dari terbaru\n",
    "    count = 12000, #jumlah ulasan yang ingin diambil\n",
    "    filter_score_with = None\n",
    ")"
   ]
  },
  {
   "cell_type": "code",
   "execution_count": null,
   "id": "b722d3c1",
   "metadata": {},
   "outputs": [],
   "source": [
    "df_threads = pd.DataFrame(np.array(result), columns = ['review'])\n",
    "df_threads = df_threads.join(pd.DataFrame(df_threads.pop('review').tolist()))\n",
    "df_threads.head()"
   ]
  },
  {
   "cell_type": "code",
   "execution_count": 6,
   "id": "2d47bb82",
   "metadata": {},
   "outputs": [],
   "source": [
    "#simpan hanya username, rating, waktu pemberian ulasan, dan ulasan (content)\n",
    "df_threads_fix = df_threads[['userName', 'score', 'at', 'content']]"
   ]
  },
  {
   "cell_type": "code",
   "execution_count": 7,
   "id": "e31923b2",
   "metadata": {},
   "outputs": [],
   "source": [
    "#simpan dalam bentuk csv\n",
    "df_threads_fix.to_csv(\"Scrapped threads.csv\", index = False)"
   ]
  }
 ],
 "metadata": {
  "kernelspec": {
   "display_name": "Python 3",
   "language": "python",
   "name": "python3"
  },
  "language_info": {
   "codemirror_mode": {
    "name": "ipython",
    "version": 3
   },
   "file_extension": ".py",
   "mimetype": "text/x-python",
   "name": "python",
   "nbconvert_exporter": "python",
   "pygments_lexer": "ipython3",
   "version": "3.8.8"
  }
 },
 "nbformat": 4,
 "nbformat_minor": 5
}
