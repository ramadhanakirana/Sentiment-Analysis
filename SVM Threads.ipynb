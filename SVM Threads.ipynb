{
 "cells": [
  {
   "cell_type": "code",
   "execution_count": 1,
   "id": "e0aa9f3b",
   "metadata": {},
   "outputs": [
    {
     "name": "stderr",
     "output_type": "stream",
     "text": [
      "WARNING: pip is being invoked by an old script wrapper. This will fail in a future version of pip.\n",
      "Please see https://github.com/pypa/pip/issues/5599 for advice on fixing the underlying issue.\n",
      "To avoid this problem you can invoke Python with '-m pip' instead of running pip directly.\n"
     ]
    },
    {
     "name": "stdout",
     "output_type": "stream",
     "text": [
      "Requirement already satisfied: google-play-scraper in c:\\users\\asus vivobook\\anaconda3\\lib\\site-packages (1.2.2)\n"
     ]
    },
    {
     "data": {
      "text/plain": [
       "0"
      ]
     },
     "execution_count": 1,
     "metadata": {},
     "output_type": "execute_result"
    }
   ],
   "source": [
    "#Cara install\n",
    "import pip\n",
    "pip.main(['install','google-play-scraper']) # replace flask with the name of module you want to install"
   ]
  },
  {
   "cell_type": "code",
   "execution_count": 2,
   "id": "f9b32bf5",
   "metadata": {},
   "outputs": [],
   "source": [
    "from google_play_scraper import app, Sort, reviews\n",
    "import pandas as pd\n",
    "import numpy as np"
   ]
  },
  {
   "cell_type": "code",
   "execution_count": 3,
   "id": "e384b01a",
   "metadata": {},
   "outputs": [],
   "source": [
    "#Ambil beberapa review\n",
    "from google_play_scraper import Sort, reviews\n",
    "\n",
    "result, continuation_token = reviews(\n",
    "    'com.instagram.barcelona',\n",
    "    lang = 'id',\n",
    "    country = 'id',\n",
    "    sort = Sort.NEWEST,\n",
    "    count = 12000,\n",
    "    filter_score_with = None\n",
    ")"
   ]
  },
  {
   "cell_type": "code",
   "execution_count": 4,
   "id": "b8fe9960",
   "metadata": {},
   "outputs": [
    {
     "data": {
      "text/html": [
       "<div>\n",
       "<style scoped>\n",
       "    .dataframe tbody tr th:only-of-type {\n",
       "        vertical-align: middle;\n",
       "    }\n",
       "\n",
       "    .dataframe tbody tr th {\n",
       "        vertical-align: top;\n",
       "    }\n",
       "\n",
       "    .dataframe thead th {\n",
       "        text-align: right;\n",
       "    }\n",
       "</style>\n",
       "<table border=\"1\" class=\"dataframe\">\n",
       "  <thead>\n",
       "    <tr style=\"text-align: right;\">\n",
       "      <th></th>\n",
       "      <th>reviewId</th>\n",
       "      <th>userName</th>\n",
       "      <th>userImage</th>\n",
       "      <th>content</th>\n",
       "      <th>score</th>\n",
       "      <th>thumbsUpCount</th>\n",
       "      <th>reviewCreatedVersion</th>\n",
       "      <th>at</th>\n",
       "      <th>replyContent</th>\n",
       "      <th>repliedAt</th>\n",
       "    </tr>\n",
       "  </thead>\n",
       "  <tbody>\n",
       "    <tr>\n",
       "      <th>0</th>\n",
       "      <td>dde4f570-755f-4680-933a-08c1ccf7e03f</td>\n",
       "      <td>Rosyid Azhar</td>\n",
       "      <td>https://play-lh.googleusercontent.com/a-/AD_cM...</td>\n",
       "      <td>Tokcer</td>\n",
       "      <td>5</td>\n",
       "      <td>0</td>\n",
       "      <td>291.0.0.31.111</td>\n",
       "      <td>2023-07-19 10:19:20</td>\n",
       "      <td>None</td>\n",
       "      <td>None</td>\n",
       "    </tr>\n",
       "    <tr>\n",
       "      <th>1</th>\n",
       "      <td>f8e9eed0-93c1-448c-aee1-7e10e5b941a6</td>\n",
       "      <td>Kushjak 97</td>\n",
       "      <td>https://play-lh.googleusercontent.com/a-/AD_cM...</td>\n",
       "      <td>Aplikasi bagus dari meta. Tinggal menambahkan ...</td>\n",
       "      <td>4</td>\n",
       "      <td>0</td>\n",
       "      <td>291.0.0.31.111</td>\n",
       "      <td>2023-07-19 08:52:57</td>\n",
       "      <td>None</td>\n",
       "      <td>None</td>\n",
       "    </tr>\n",
       "    <tr>\n",
       "      <th>2</th>\n",
       "      <td>0014bd2e-d52b-48bd-80bd-94bda1bb2de4</td>\n",
       "      <td>Zehan Baihaqi</td>\n",
       "      <td>https://play-lh.googleusercontent.com/a-/AD_cM...</td>\n",
       "      <td>Banyak privasi</td>\n",
       "      <td>1</td>\n",
       "      <td>0</td>\n",
       "      <td>None</td>\n",
       "      <td>2023-07-19 08:39:43</td>\n",
       "      <td>None</td>\n",
       "      <td>None</td>\n",
       "    </tr>\n",
       "    <tr>\n",
       "      <th>3</th>\n",
       "      <td>ae53e97e-79cb-497b-ac58-f318144eadfc</td>\n",
       "      <td>Angga Pratama</td>\n",
       "      <td>https://play-lh.googleusercontent.com/a/AAcHTt...</td>\n",
       "      <td>Pengambilan datanya ga ngotak</td>\n",
       "      <td>1</td>\n",
       "      <td>0</td>\n",
       "      <td>289.0.0.77.109</td>\n",
       "      <td>2023-07-19 08:18:25</td>\n",
       "      <td>None</td>\n",
       "      <td>None</td>\n",
       "    </tr>\n",
       "    <tr>\n",
       "      <th>4</th>\n",
       "      <td>7316463a-e66b-49ce-ae1c-a4bcc3d6c4fd</td>\n",
       "      <td>Fazallullah Habib</td>\n",
       "      <td>https://play-lh.googleusercontent.com/a-/AD_cM...</td>\n",
       "      <td>Mengapa saat mengunggah foto, fotonya jadi burik?</td>\n",
       "      <td>1</td>\n",
       "      <td>0</td>\n",
       "      <td>None</td>\n",
       "      <td>2023-07-19 07:22:30</td>\n",
       "      <td>None</td>\n",
       "      <td>None</td>\n",
       "    </tr>\n",
       "  </tbody>\n",
       "</table>\n",
       "</div>"
      ],
      "text/plain": [
       "                               reviewId           userName  \\\n",
       "0  dde4f570-755f-4680-933a-08c1ccf7e03f       Rosyid Azhar   \n",
       "1  f8e9eed0-93c1-448c-aee1-7e10e5b941a6         Kushjak 97   \n",
       "2  0014bd2e-d52b-48bd-80bd-94bda1bb2de4      Zehan Baihaqi   \n",
       "3  ae53e97e-79cb-497b-ac58-f318144eadfc      Angga Pratama   \n",
       "4  7316463a-e66b-49ce-ae1c-a4bcc3d6c4fd  Fazallullah Habib   \n",
       "\n",
       "                                           userImage  \\\n",
       "0  https://play-lh.googleusercontent.com/a-/AD_cM...   \n",
       "1  https://play-lh.googleusercontent.com/a-/AD_cM...   \n",
       "2  https://play-lh.googleusercontent.com/a-/AD_cM...   \n",
       "3  https://play-lh.googleusercontent.com/a/AAcHTt...   \n",
       "4  https://play-lh.googleusercontent.com/a-/AD_cM...   \n",
       "\n",
       "                                             content  score  thumbsUpCount  \\\n",
       "0                                             Tokcer      5              0   \n",
       "1  Aplikasi bagus dari meta. Tinggal menambahkan ...      4              0   \n",
       "2                                     Banyak privasi      1              0   \n",
       "3                      Pengambilan datanya ga ngotak      1              0   \n",
       "4  Mengapa saat mengunggah foto, fotonya jadi burik?      1              0   \n",
       "\n",
       "  reviewCreatedVersion                  at replyContent repliedAt  \n",
       "0       291.0.0.31.111 2023-07-19 10:19:20         None      None  \n",
       "1       291.0.0.31.111 2023-07-19 08:52:57         None      None  \n",
       "2                 None 2023-07-19 08:39:43         None      None  \n",
       "3       289.0.0.77.109 2023-07-19 08:18:25         None      None  \n",
       "4                 None 2023-07-19 07:22:30         None      None  "
      ]
     },
     "execution_count": 4,
     "metadata": {},
     "output_type": "execute_result"
    }
   ],
   "source": [
    "df_threads = pd.DataFrame(np.array(result), columns = ['review'])\n",
    "df_threads = df_threads.join(pd.DataFrame(df_threads.pop('review').tolist()))\n",
    "df_threads.head()"
   ]
  },
  {
   "cell_type": "code",
   "execution_count": 6,
   "id": "2d47bb82",
   "metadata": {},
   "outputs": [],
   "source": [
    "df_threads_fix = df_threads[['userName', 'score', 'at', 'content']]"
   ]
  },
  {
   "cell_type": "code",
   "execution_count": 7,
   "id": "e31923b2",
   "metadata": {},
   "outputs": [],
   "source": [
    "df_threads_fix.to_csv(\"Scrapped threads.csv\", index = False)"
   ]
  }
 ],
 "metadata": {
  "kernelspec": {
   "display_name": "Python 3",
   "language": "python",
   "name": "python3"
  },
  "language_info": {
   "codemirror_mode": {
    "name": "ipython",
    "version": 3
   },
   "file_extension": ".py",
   "mimetype": "text/x-python",
   "name": "python",
   "nbconvert_exporter": "python",
   "pygments_lexer": "ipython3",
   "version": "3.8.8"
  }
 },
 "nbformat": 4,
 "nbformat_minor": 5
}
